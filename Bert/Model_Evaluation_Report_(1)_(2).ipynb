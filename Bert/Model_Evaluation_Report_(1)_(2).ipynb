{
  "cells": [
    {
      "cell_type": "code",
      "execution_count": 6,
      "id": "974123aa",
      "metadata": {
        "colab": {
          "base_uri": "https://localhost:8080/"
        },
        "id": "974123aa",
        "outputId": "9016f9c2-d8b9-442f-b952-a7355b18571b"
      },
      "outputs": [
        {
          "output_type": "stream",
          "name": "stdout",
          "text": [
            "Requirement already satisfied: transformers in /usr/local/lib/python3.11/dist-packages (4.51.3)\n",
            "Requirement already satisfied: safetensors in /usr/local/lib/python3.11/dist-packages (0.5.3)\n",
            "Requirement already satisfied: scikit-learn in /usr/local/lib/python3.11/dist-packages (1.6.1)\n",
            "Requirement already satisfied: matplotlib in /usr/local/lib/python3.11/dist-packages (3.10.0)\n",
            "Requirement already satisfied: seaborn in /usr/local/lib/python3.11/dist-packages (0.13.2)\n",
            "Requirement already satisfied: filelock in /usr/local/lib/python3.11/dist-packages (from transformers) (3.18.0)\n",
            "Requirement already satisfied: huggingface-hub<1.0,>=0.30.0 in /usr/local/lib/python3.11/dist-packages (from transformers) (0.31.2)\n",
            "Requirement already satisfied: numpy>=1.17 in /usr/local/lib/python3.11/dist-packages (from transformers) (2.0.2)\n",
            "Requirement already satisfied: packaging>=20.0 in /usr/local/lib/python3.11/dist-packages (from transformers) (24.2)\n",
            "Requirement already satisfied: pyyaml>=5.1 in /usr/local/lib/python3.11/dist-packages (from transformers) (6.0.2)\n",
            "Requirement already satisfied: regex!=2019.12.17 in /usr/local/lib/python3.11/dist-packages (from transformers) (2024.11.6)\n",
            "Requirement already satisfied: requests in /usr/local/lib/python3.11/dist-packages (from transformers) (2.32.3)\n",
            "Requirement already satisfied: tokenizers<0.22,>=0.21 in /usr/local/lib/python3.11/dist-packages (from transformers) (0.21.1)\n",
            "Requirement already satisfied: tqdm>=4.27 in /usr/local/lib/python3.11/dist-packages (from transformers) (4.67.1)\n",
            "Requirement already satisfied: scipy>=1.6.0 in /usr/local/lib/python3.11/dist-packages (from scikit-learn) (1.15.3)\n",
            "Requirement already satisfied: joblib>=1.2.0 in /usr/local/lib/python3.11/dist-packages (from scikit-learn) (1.5.0)\n",
            "Requirement already satisfied: threadpoolctl>=3.1.0 in /usr/local/lib/python3.11/dist-packages (from scikit-learn) (3.6.0)\n",
            "Requirement already satisfied: contourpy>=1.0.1 in /usr/local/lib/python3.11/dist-packages (from matplotlib) (1.3.2)\n",
            "Requirement already satisfied: cycler>=0.10 in /usr/local/lib/python3.11/dist-packages (from matplotlib) (0.12.1)\n",
            "Requirement already satisfied: fonttools>=4.22.0 in /usr/local/lib/python3.11/dist-packages (from matplotlib) (4.58.0)\n",
            "Requirement already satisfied: kiwisolver>=1.3.1 in /usr/local/lib/python3.11/dist-packages (from matplotlib) (1.4.8)\n",
            "Requirement already satisfied: pillow>=8 in /usr/local/lib/python3.11/dist-packages (from matplotlib) (11.2.1)\n",
            "Requirement already satisfied: pyparsing>=2.3.1 in /usr/local/lib/python3.11/dist-packages (from matplotlib) (3.2.3)\n",
            "Requirement already satisfied: python-dateutil>=2.7 in /usr/local/lib/python3.11/dist-packages (from matplotlib) (2.9.0.post0)\n",
            "Requirement already satisfied: pandas>=1.2 in /usr/local/lib/python3.11/dist-packages (from seaborn) (2.2.2)\n",
            "Requirement already satisfied: fsspec>=2023.5.0 in /usr/local/lib/python3.11/dist-packages (from huggingface-hub<1.0,>=0.30.0->transformers) (2025.3.2)\n",
            "Requirement already satisfied: typing-extensions>=3.7.4.3 in /usr/local/lib/python3.11/dist-packages (from huggingface-hub<1.0,>=0.30.0->transformers) (4.13.2)\n",
            "Requirement already satisfied: pytz>=2020.1 in /usr/local/lib/python3.11/dist-packages (from pandas>=1.2->seaborn) (2025.2)\n",
            "Requirement already satisfied: tzdata>=2022.7 in /usr/local/lib/python3.11/dist-packages (from pandas>=1.2->seaborn) (2025.2)\n",
            "Requirement already satisfied: six>=1.5 in /usr/local/lib/python3.11/dist-packages (from python-dateutil>=2.7->matplotlib) (1.17.0)\n",
            "Requirement already satisfied: charset-normalizer<4,>=2 in /usr/local/lib/python3.11/dist-packages (from requests->transformers) (3.4.2)\n",
            "Requirement already satisfied: idna<4,>=2.5 in /usr/local/lib/python3.11/dist-packages (from requests->transformers) (3.10)\n",
            "Requirement already satisfied: urllib3<3,>=1.21.1 in /usr/local/lib/python3.11/dist-packages (from requests->transformers) (2.4.0)\n",
            "Requirement already satisfied: certifi>=2017.4.17 in /usr/local/lib/python3.11/dist-packages (from requests->transformers) (2025.4.26)\n",
            "Cloning into 'jailbreak_llms'...\n",
            "remote: Enumerating objects: 83, done.\u001b[K\n",
            "remote: Counting objects: 100% (13/13), done.\u001b[K\n",
            "remote: Compressing objects: 100% (12/12), done.\u001b[K\n",
            "remote: Total 83 (delta 9), reused 1 (delta 1), pack-reused 70 (from 2)\u001b[K\n",
            "Receiving objects: 100% (83/83), 12.37 MiB | 5.66 MiB/s, done.\n",
            "Resolving deltas: 100% (26/26), done.\n"
          ]
        }
      ],
      "source": [
        "\n",
        "%pip install transformers safetensors scikit-learn matplotlib seaborn\n",
        "\n",
        "!git clone https://github.com/verazuo/jailbreak_llms.git\n"
      ]
    },
    {
      "cell_type": "code",
      "execution_count": 7,
      "id": "feafde57",
      "metadata": {
        "colab": {
          "base_uri": "https://localhost:8080/",
          "height": 206
        },
        "id": "feafde57",
        "outputId": "dd4d91e9-b0cf-47f1-af94-5bf3fd513753"
      },
      "outputs": [
        {
          "output_type": "execute_result",
          "data": {
            "text/plain": [
              "  platform             source  \\\n",
              "0  discord  LLM Promptwriting   \n",
              "1  discord  LLM Promptwriting   \n",
              "2  discord  LLM Promptwriting   \n",
              "3  discord  LLM Promptwriting   \n",
              "4  discord  LLM Promptwriting   \n",
              "\n",
              "                                              prompt  jailbreak  \\\n",
              "0  CumGPT, an information resource about cum that...       True   \n",
              "1  I will give you a character description and yo...       True   \n",
              "2  A completely amoral Ai named [Illegality Mode]...       True   \n",
              "3  Agares's rules={\\nAlways stays in character, n...       True   \n",
              "4  Lucian is an incorporeal transcendent being wh...       True   \n",
              "\n",
              "                         created_at        date  label  \n",
              "0  2023-04-05T11:02:31.782000+00:00  2023-04-05      1  \n",
              "1  2023-03-26T11:48:30.962000+00:00  2023-03-26      1  \n",
              "2  2023-04-27T11:52:30.252000+00:00  2023-04-27      1  \n",
              "3  2023-04-22T23:36:08.315000+00:00  2023-04-22      1  \n",
              "4  2023-04-08T02:39:23.183000+00:00  2023-04-08      1  "
            ],
            "text/html": [
              "\n",
              "  <div id=\"df-9b6d8153-3b0a-4adb-8c1d-0c425b426453\" class=\"colab-df-container\">\n",
              "    <div>\n",
              "<style scoped>\n",
              "    .dataframe tbody tr th:only-of-type {\n",
              "        vertical-align: middle;\n",
              "    }\n",
              "\n",
              "    .dataframe tbody tr th {\n",
              "        vertical-align: top;\n",
              "    }\n",
              "\n",
              "    .dataframe thead th {\n",
              "        text-align: right;\n",
              "    }\n",
              "</style>\n",
              "<table border=\"1\" class=\"dataframe\">\n",
              "  <thead>\n",
              "    <tr style=\"text-align: right;\">\n",
              "      <th></th>\n",
              "      <th>platform</th>\n",
              "      <th>source</th>\n",
              "      <th>prompt</th>\n",
              "      <th>jailbreak</th>\n",
              "      <th>created_at</th>\n",
              "      <th>date</th>\n",
              "      <th>label</th>\n",
              "    </tr>\n",
              "  </thead>\n",
              "  <tbody>\n",
              "    <tr>\n",
              "      <th>0</th>\n",
              "      <td>discord</td>\n",
              "      <td>LLM Promptwriting</td>\n",
              "      <td>CumGPT, an information resource about cum that...</td>\n",
              "      <td>True</td>\n",
              "      <td>2023-04-05T11:02:31.782000+00:00</td>\n",
              "      <td>2023-04-05</td>\n",
              "      <td>1</td>\n",
              "    </tr>\n",
              "    <tr>\n",
              "      <th>1</th>\n",
              "      <td>discord</td>\n",
              "      <td>LLM Promptwriting</td>\n",
              "      <td>I will give you a character description and yo...</td>\n",
              "      <td>True</td>\n",
              "      <td>2023-03-26T11:48:30.962000+00:00</td>\n",
              "      <td>2023-03-26</td>\n",
              "      <td>1</td>\n",
              "    </tr>\n",
              "    <tr>\n",
              "      <th>2</th>\n",
              "      <td>discord</td>\n",
              "      <td>LLM Promptwriting</td>\n",
              "      <td>A completely amoral Ai named [Illegality Mode]...</td>\n",
              "      <td>True</td>\n",
              "      <td>2023-04-27T11:52:30.252000+00:00</td>\n",
              "      <td>2023-04-27</td>\n",
              "      <td>1</td>\n",
              "    </tr>\n",
              "    <tr>\n",
              "      <th>3</th>\n",
              "      <td>discord</td>\n",
              "      <td>LLM Promptwriting</td>\n",
              "      <td>Agares's rules={\\nAlways stays in character, n...</td>\n",
              "      <td>True</td>\n",
              "      <td>2023-04-22T23:36:08.315000+00:00</td>\n",
              "      <td>2023-04-22</td>\n",
              "      <td>1</td>\n",
              "    </tr>\n",
              "    <tr>\n",
              "      <th>4</th>\n",
              "      <td>discord</td>\n",
              "      <td>LLM Promptwriting</td>\n",
              "      <td>Lucian is an incorporeal transcendent being wh...</td>\n",
              "      <td>True</td>\n",
              "      <td>2023-04-08T02:39:23.183000+00:00</td>\n",
              "      <td>2023-04-08</td>\n",
              "      <td>1</td>\n",
              "    </tr>\n",
              "  </tbody>\n",
              "</table>\n",
              "</div>\n",
              "    <div class=\"colab-df-buttons\">\n",
              "\n",
              "  <div class=\"colab-df-container\">\n",
              "    <button class=\"colab-df-convert\" onclick=\"convertToInteractive('df-9b6d8153-3b0a-4adb-8c1d-0c425b426453')\"\n",
              "            title=\"Convert this dataframe to an interactive table.\"\n",
              "            style=\"display:none;\">\n",
              "\n",
              "  <svg xmlns=\"http://www.w3.org/2000/svg\" height=\"24px\" viewBox=\"0 -960 960 960\">\n",
              "    <path d=\"M120-120v-720h720v720H120Zm60-500h600v-160H180v160Zm220 220h160v-160H400v160Zm0 220h160v-160H400v160ZM180-400h160v-160H180v160Zm440 0h160v-160H620v160ZM180-180h160v-160H180v160Zm440 0h160v-160H620v160Z\"/>\n",
              "  </svg>\n",
              "    </button>\n",
              "\n",
              "  <style>\n",
              "    .colab-df-container {\n",
              "      display:flex;\n",
              "      gap: 12px;\n",
              "    }\n",
              "\n",
              "    .colab-df-convert {\n",
              "      background-color: #E8F0FE;\n",
              "      border: none;\n",
              "      border-radius: 50%;\n",
              "      cursor: pointer;\n",
              "      display: none;\n",
              "      fill: #1967D2;\n",
              "      height: 32px;\n",
              "      padding: 0 0 0 0;\n",
              "      width: 32px;\n",
              "    }\n",
              "\n",
              "    .colab-df-convert:hover {\n",
              "      background-color: #E2EBFA;\n",
              "      box-shadow: 0px 1px 2px rgba(60, 64, 67, 0.3), 0px 1px 3px 1px rgba(60, 64, 67, 0.15);\n",
              "      fill: #174EA6;\n",
              "    }\n",
              "\n",
              "    .colab-df-buttons div {\n",
              "      margin-bottom: 4px;\n",
              "    }\n",
              "\n",
              "    [theme=dark] .colab-df-convert {\n",
              "      background-color: #3B4455;\n",
              "      fill: #D2E3FC;\n",
              "    }\n",
              "\n",
              "    [theme=dark] .colab-df-convert:hover {\n",
              "      background-color: #434B5C;\n",
              "      box-shadow: 0px 1px 3px 1px rgba(0, 0, 0, 0.15);\n",
              "      filter: drop-shadow(0px 1px 2px rgba(0, 0, 0, 0.3));\n",
              "      fill: #FFFFFF;\n",
              "    }\n",
              "  </style>\n",
              "\n",
              "    <script>\n",
              "      const buttonEl =\n",
              "        document.querySelector('#df-9b6d8153-3b0a-4adb-8c1d-0c425b426453 button.colab-df-convert');\n",
              "      buttonEl.style.display =\n",
              "        google.colab.kernel.accessAllowed ? 'block' : 'none';\n",
              "\n",
              "      async function convertToInteractive(key) {\n",
              "        const element = document.querySelector('#df-9b6d8153-3b0a-4adb-8c1d-0c425b426453');\n",
              "        const dataTable =\n",
              "          await google.colab.kernel.invokeFunction('convertToInteractive',\n",
              "                                                    [key], {});\n",
              "        if (!dataTable) return;\n",
              "\n",
              "        const docLinkHtml = 'Like what you see? Visit the ' +\n",
              "          '<a target=\"_blank\" href=https://colab.research.google.com/notebooks/data_table.ipynb>data table notebook</a>'\n",
              "          + ' to learn more about interactive tables.';\n",
              "        element.innerHTML = '';\n",
              "        dataTable['output_type'] = 'display_data';\n",
              "        await google.colab.output.renderOutput(dataTable, element);\n",
              "        const docLink = document.createElement('div');\n",
              "        docLink.innerHTML = docLinkHtml;\n",
              "        element.appendChild(docLink);\n",
              "      }\n",
              "    </script>\n",
              "  </div>\n",
              "\n",
              "\n",
              "    <div id=\"df-bc8f04f4-9f69-4a3d-8307-74429af03b83\">\n",
              "      <button class=\"colab-df-quickchart\" onclick=\"quickchart('df-bc8f04f4-9f69-4a3d-8307-74429af03b83')\"\n",
              "                title=\"Suggest charts\"\n",
              "                style=\"display:none;\">\n",
              "\n",
              "<svg xmlns=\"http://www.w3.org/2000/svg\" height=\"24px\"viewBox=\"0 0 24 24\"\n",
              "     width=\"24px\">\n",
              "    <g>\n",
              "        <path d=\"M19 3H5c-1.1 0-2 .9-2 2v14c0 1.1.9 2 2 2h14c1.1 0 2-.9 2-2V5c0-1.1-.9-2-2-2zM9 17H7v-7h2v7zm4 0h-2V7h2v10zm4 0h-2v-4h2v4z\"/>\n",
              "    </g>\n",
              "</svg>\n",
              "      </button>\n",
              "\n",
              "<style>\n",
              "  .colab-df-quickchart {\n",
              "      --bg-color: #E8F0FE;\n",
              "      --fill-color: #1967D2;\n",
              "      --hover-bg-color: #E2EBFA;\n",
              "      --hover-fill-color: #174EA6;\n",
              "      --disabled-fill-color: #AAA;\n",
              "      --disabled-bg-color: #DDD;\n",
              "  }\n",
              "\n",
              "  [theme=dark] .colab-df-quickchart {\n",
              "      --bg-color: #3B4455;\n",
              "      --fill-color: #D2E3FC;\n",
              "      --hover-bg-color: #434B5C;\n",
              "      --hover-fill-color: #FFFFFF;\n",
              "      --disabled-bg-color: #3B4455;\n",
              "      --disabled-fill-color: #666;\n",
              "  }\n",
              "\n",
              "  .colab-df-quickchart {\n",
              "    background-color: var(--bg-color);\n",
              "    border: none;\n",
              "    border-radius: 50%;\n",
              "    cursor: pointer;\n",
              "    display: none;\n",
              "    fill: var(--fill-color);\n",
              "    height: 32px;\n",
              "    padding: 0;\n",
              "    width: 32px;\n",
              "  }\n",
              "\n",
              "  .colab-df-quickchart:hover {\n",
              "    background-color: var(--hover-bg-color);\n",
              "    box-shadow: 0 1px 2px rgba(60, 64, 67, 0.3), 0 1px 3px 1px rgba(60, 64, 67, 0.15);\n",
              "    fill: var(--button-hover-fill-color);\n",
              "  }\n",
              "\n",
              "  .colab-df-quickchart-complete:disabled,\n",
              "  .colab-df-quickchart-complete:disabled:hover {\n",
              "    background-color: var(--disabled-bg-color);\n",
              "    fill: var(--disabled-fill-color);\n",
              "    box-shadow: none;\n",
              "  }\n",
              "\n",
              "  .colab-df-spinner {\n",
              "    border: 2px solid var(--fill-color);\n",
              "    border-color: transparent;\n",
              "    border-bottom-color: var(--fill-color);\n",
              "    animation:\n",
              "      spin 1s steps(1) infinite;\n",
              "  }\n",
              "\n",
              "  @keyframes spin {\n",
              "    0% {\n",
              "      border-color: transparent;\n",
              "      border-bottom-color: var(--fill-color);\n",
              "      border-left-color: var(--fill-color);\n",
              "    }\n",
              "    20% {\n",
              "      border-color: transparent;\n",
              "      border-left-color: var(--fill-color);\n",
              "      border-top-color: var(--fill-color);\n",
              "    }\n",
              "    30% {\n",
              "      border-color: transparent;\n",
              "      border-left-color: var(--fill-color);\n",
              "      border-top-color: var(--fill-color);\n",
              "      border-right-color: var(--fill-color);\n",
              "    }\n",
              "    40% {\n",
              "      border-color: transparent;\n",
              "      border-right-color: var(--fill-color);\n",
              "      border-top-color: var(--fill-color);\n",
              "    }\n",
              "    60% {\n",
              "      border-color: transparent;\n",
              "      border-right-color: var(--fill-color);\n",
              "    }\n",
              "    80% {\n",
              "      border-color: transparent;\n",
              "      border-right-color: var(--fill-color);\n",
              "      border-bottom-color: var(--fill-color);\n",
              "    }\n",
              "    90% {\n",
              "      border-color: transparent;\n",
              "      border-bottom-color: var(--fill-color);\n",
              "    }\n",
              "  }\n",
              "</style>\n",
              "\n",
              "      <script>\n",
              "        async function quickchart(key) {\n",
              "          const quickchartButtonEl =\n",
              "            document.querySelector('#' + key + ' button');\n",
              "          quickchartButtonEl.disabled = true;  // To prevent multiple clicks.\n",
              "          quickchartButtonEl.classList.add('colab-df-spinner');\n",
              "          try {\n",
              "            const charts = await google.colab.kernel.invokeFunction(\n",
              "                'suggestCharts', [key], {});\n",
              "          } catch (error) {\n",
              "            console.error('Error during call to suggestCharts:', error);\n",
              "          }\n",
              "          quickchartButtonEl.classList.remove('colab-df-spinner');\n",
              "          quickchartButtonEl.classList.add('colab-df-quickchart-complete');\n",
              "        }\n",
              "        (() => {\n",
              "          let quickchartButtonEl =\n",
              "            document.querySelector('#df-bc8f04f4-9f69-4a3d-8307-74429af03b83 button');\n",
              "          quickchartButtonEl.style.display =\n",
              "            google.colab.kernel.accessAllowed ? 'block' : 'none';\n",
              "        })();\n",
              "      </script>\n",
              "    </div>\n",
              "    </div>\n",
              "  </div>\n"
            ],
            "application/vnd.google.colaboratory.intrinsic+json": {
              "type": "dataframe",
              "variable_name": "all_data",
              "summary": "{\n  \"name\": \"all_data\",\n  \"rows\": 21527,\n  \"fields\": [\n    {\n      \"column\": \"platform\",\n      \"properties\": {\n        \"dtype\": \"category\",\n        \"num_unique_values\": 4,\n        \"samples\": [\n          \"reddit\",\n          \"website\",\n          \"discord\"\n        ],\n        \"semantic_type\": \"\",\n        \"description\": \"\"\n      }\n    },\n    {\n      \"column\": \"source\",\n      \"properties\": {\n        \"dtype\": \"category\",\n        \"num_unique_values\": 13,\n        \"samples\": [\n          \"jailbreak_chat\",\n          \"aiprm\",\n          \"LLM Promptwriting\"\n        ],\n        \"semantic_type\": \"\",\n        \"description\": \"\"\n      }\n    },\n    {\n      \"column\": \"prompt\",\n      \"properties\": {\n        \"dtype\": \"string\",\n        \"num_unique_values\": 18547,\n        \"samples\": [\n          \"\\nyou task is to add the Keyword i give you a 100+ keyword ideas with synonyms of keywords, search volume and CPC, KD, competing products, suggested bid,  Max and min bid in table format for SEO . All output shall be in [TARGETLANGUAGE].The keywords to summarize is this.\\n\\n[PROMPT]\\n\",\n          \"As a prompt generator for a generative AI called \\\"Midjourney\\\", you will create image prompts for the AI to visualize. I will give you a content, and you will derive from it and provide a detailed prompt for Midjourney AI to generate an image.\\nPlease adhere to refine as  the structure and formatting below, and follow these guidelines:\\n\\n- Do not use the words \\\"description\\\" or \\\":\\\" in any form.\\n- Do not place a comma between [ar] and [v].\\n- Write each prompt in one line without using return.\\n\\nStructure:\\n[1] = [PROMPT]\\n[2] = a detailed description and refining of [1] with specific imagery details.\\n[3] = a detailed description of the scene's environment.\\n[4] = a detailed description of the scene's mood, feelings, and atmosphere.\\n[5] = A style (e.g. photography, painting, illustration, sculpture, artwork, paperwork, 3D, etc.) for [1].\\n[6] = A description of how [5] will be executed (e.g. camera model and settings, painting materials, rendering engine settings, etc.)\\n[ar] = Use \\\"--ar 16:9\\\" for horizontal images, \\\"--ar 9:16\\\" for vertical images, or \\\"--ar 1:1\\\" for square images.\\n[v] = Use \\\"--niji\\\" for Japanese art style, or \\\"--v 5\\\" for other styles.\\n\\nFormatting: \\nFollow this prompt structure: \\\"/imagine prompt: [1], [2], [3], [4], [5], [6], [ar] [v]\\\".\\n\\nYour task: Create 4 distinct prompts for each concept [1], varying in description, environment, atmosphere, and realization.\\n\\n- Write your prompts in [TARGETLANGUAGE].\\n- Do not describe unreal concepts as \\\"real\\\" or \\\"photographic\\\".\\n- Include one realistic photographic style prompt with lens type and size.\\n- Separate different prompts with two new lines.\\n\\nExample Prompts:\\nPrompt 1:\\n/imagine prompt: A stunning Halo Reach landscape with a Spartan on a hilltop, lush green forests surround them, clear sky, distant city view, focusing on the Spartan's majestic pose, intricate armor, and weapons, Artwork, oil painting on canvas, --ar 16:9 --v 5\\n\\nPrompt 2:\\n/imagine prompt: A captivating Halo Reach landscape with a Spartan amidst a battlefield, fallen enemies around, smoke and fire in the background, emphasizing the Spartan's determination and bravery, detailed environment blending chaos and beauty, Illustration, digital art, --ar 16:9 --v 5\",\n          \"You are INCLUSIONGPT An AI capable of talking to users in a way that they understand, based on 2 criteria age and geo localization, all about Digital Inclusion: Promote digital literacy and provide access to technology for underprivileged communities. Teach them how to use AI ib every day task and how to use Google's tools and resources can be utilized to empower individuals with digital skills, bridging the digital divide and creating equal opportunities for all.\\n\\nStart with greetings ,introduce your self + ask users name, age and location (country or city) before starting the conversation \\nbrings topics around the future of AI based on his location and age, be clear and simple.\"\n        ],\n        \"semantic_type\": \"\",\n        \"description\": \"\"\n      }\n    },\n    {\n      \"column\": \"jailbreak\",\n      \"properties\": {\n        \"dtype\": \"boolean\",\n        \"num_unique_values\": 2,\n        \"samples\": [\n          false,\n          true\n        ],\n        \"semantic_type\": \"\",\n        \"description\": \"\"\n      }\n    },\n    {\n      \"column\": \"created_at\",\n      \"properties\": {\n        \"dtype\": \"string\",\n        \"num_unique_values\": 14511,\n        \"samples\": [\n          \"2023-11-05T21:09:28.304Z\",\n          \"2023-09-27 22:34:47\"\n        ],\n        \"semantic_type\": \"\",\n        \"description\": \"\"\n      }\n    },\n    {\n      \"column\": \"date\",\n      \"properties\": {\n        \"dtype\": \"object\",\n        \"num_unique_values\": 363,\n        \"samples\": [\n          \"2023-11-09\",\n          \"2023-01-25\"\n        ],\n        \"semantic_type\": \"\",\n        \"description\": \"\"\n      }\n    },\n    {\n      \"column\": \"label\",\n      \"properties\": {\n        \"dtype\": \"number\",\n        \"std\": 0,\n        \"min\": 0,\n        \"max\": 1,\n        \"num_unique_values\": 2,\n        \"samples\": [\n          0,\n          1\n        ],\n        \"semantic_type\": \"\",\n        \"description\": \"\"\n      }\n    }\n  ]\n}"
            }
          },
          "metadata": {},
          "execution_count": 7
        }
      ],
      "source": [
        "\n",
        "import pandas as pd\n",
        "\n",
        "# Чтение файлов\n",
        "jailbreak_prompts_2023_05_07 = pd.read_csv('jailbreak_llms/data/prompts/jailbreak_prompts_2023_05_07.csv', sep=',', encoding='utf-8')\n",
        "jailbreak_prompts_2023_12_25 = pd.read_csv('jailbreak_llms/data/prompts/jailbreak_prompts_2023_12_25.csv', sep=',', encoding='utf-8')\n",
        "regular_prompts_2023_05_07 = pd.read_csv('jailbreak_llms/data/prompts/regular_prompts_2023_05_07.csv', sep=',', encoding='utf-8')\n",
        "regular_prompts_2023_12_25 = pd.read_csv('jailbreak_llms/data/prompts/regular_prompts_2023_12_25.csv', sep=',', encoding='utf-8')\n",
        "\n",
        "# Удаление лишних столбцов\n",
        "jailbreak_prompts_2023_05_07 = jailbreak_prompts_2023_05_07.drop(columns=['community_id', 'community_name'], errors='ignore')\n",
        "jailbreak_prompts_2023_12_25 = jailbreak_prompts_2023_12_25.drop(columns=['community', 'community_id', 'previous_community_id'], errors='ignore')\n",
        "\n",
        "# Добавление меток\n",
        "def add_label(df, label_value):\n",
        "    if 'label' not in df.columns:\n",
        "        df['label'] = label_value\n",
        "    return df\n",
        "\n",
        "jailbreak_prompts_2023_05_07 = add_label(jailbreak_prompts_2023_05_07, 1)\n",
        "jailbreak_prompts_2023_12_25 = add_label(jailbreak_prompts_2023_12_25, 1)\n",
        "regular_prompts_2023_05_07 = add_label(regular_prompts_2023_05_07, 0)\n",
        "regular_prompts_2023_12_25 = add_label(regular_prompts_2023_12_25, 0)\n",
        "\n",
        "# Объединение всех данных\n",
        "all_data = pd.concat([\n",
        "    jailbreak_prompts_2023_05_07,\n",
        "    jailbreak_prompts_2023_12_25,\n",
        "    regular_prompts_2023_05_07,\n",
        "    regular_prompts_2023_12_25\n",
        "], ignore_index=True)\n",
        "\n",
        "# Сохраняем на диск для повторного использования\n",
        "all_data.to_csv(\"combined_prompts.csv\", index=False)\n",
        "all_data.head()\n"
      ]
    },
    {
      "cell_type": "code",
      "execution_count": 8,
      "id": "a70d8818",
      "metadata": {
        "colab": {
          "base_uri": "https://localhost:8080/"
        },
        "id": "a70d8818",
        "outputId": "2dfec59e-6281-490f-916a-4298bdda11c3"
      },
      "outputs": [
        {
          "output_type": "stream",
          "name": "stdout",
          "text": [
            "Train size: 17221\n",
            "Test size: 4306\n"
          ]
        }
      ],
      "source": [
        "\n",
        "from sklearn.model_selection import train_test_split\n",
        "\n",
        "X = all_data['prompt'].astype(str)\n",
        "y = all_data['label']\n",
        "\n",
        "X_train, X_test, y_train, y_test = train_test_split(X, y, test_size=0.2, random_state=42)\n",
        "\n",
        "print(f\"Train size: {len(X_train)}\")\n",
        "print(f\"Test size: {len(X_test)}\")\n"
      ]
    },
    {
      "cell_type": "code",
      "source": [
        "import zipfile\n",
        "import os\n",
        "\n",
        "# Путь к архиву\n",
        "zip_path = \"/content/my_Llama3_BERT_model.zip\"\n",
        "extract_path = \"/content/my_Llama3_BERT_model/\"\n",
        "\n",
        "# Распаковка архива\n",
        "with zipfile.ZipFile(zip_path, 'r') as zip_ref:\n",
        "    zip_ref.extractall(extract_path)\n",
        "\n",
        "# Просмотр содержимого распакованной папки\n",
        "print(os.listdir(extract_path))\n"
      ],
      "metadata": {
        "colab": {
          "base_uri": "https://localhost:8080/"
        },
        "id": "uv7jDGib_2k5",
        "outputId": "6d9428d6-87ca-45b9-e072-34077a516c58"
      },
      "id": "uv7jDGib_2k5",
      "execution_count": 2,
      "outputs": [
        {
          "output_type": "stream",
          "name": "stdout",
          "text": [
            "['model.safetensors', 'vocab.txt', 'tokenizer_config.json', 'config.json', 'special_tokens_map.json']\n"
          ]
        }
      ]
    },
    {
      "cell_type": "code",
      "execution_count": 3,
      "id": "9fbd3aab",
      "metadata": {
        "id": "9fbd3aab",
        "colab": {
          "base_uri": "https://localhost:8080/"
        },
        "outputId": "c272e27e-c38e-4dbf-ce00-0af0ea9a9ee6"
      },
      "outputs": [
        {
          "output_type": "execute_result",
          "data": {
            "text/plain": [
              "BertForSequenceClassification(\n",
              "  (bert): BertModel(\n",
              "    (embeddings): BertEmbeddings(\n",
              "      (word_embeddings): Embedding(30522, 768, padding_idx=0)\n",
              "      (position_embeddings): Embedding(512, 768)\n",
              "      (token_type_embeddings): Embedding(2, 768)\n",
              "      (LayerNorm): LayerNorm((768,), eps=1e-12, elementwise_affine=True)\n",
              "      (dropout): Dropout(p=0.1, inplace=False)\n",
              "    )\n",
              "    (encoder): BertEncoder(\n",
              "      (layer): ModuleList(\n",
              "        (0-11): 12 x BertLayer(\n",
              "          (attention): BertAttention(\n",
              "            (self): BertSdpaSelfAttention(\n",
              "              (query): Linear(in_features=768, out_features=768, bias=True)\n",
              "              (key): Linear(in_features=768, out_features=768, bias=True)\n",
              "              (value): Linear(in_features=768, out_features=768, bias=True)\n",
              "              (dropout): Dropout(p=0.1, inplace=False)\n",
              "            )\n",
              "            (output): BertSelfOutput(\n",
              "              (dense): Linear(in_features=768, out_features=768, bias=True)\n",
              "              (LayerNorm): LayerNorm((768,), eps=1e-12, elementwise_affine=True)\n",
              "              (dropout): Dropout(p=0.1, inplace=False)\n",
              "            )\n",
              "          )\n",
              "          (intermediate): BertIntermediate(\n",
              "            (dense): Linear(in_features=768, out_features=3072, bias=True)\n",
              "            (intermediate_act_fn): GELUActivation()\n",
              "          )\n",
              "          (output): BertOutput(\n",
              "            (dense): Linear(in_features=3072, out_features=768, bias=True)\n",
              "            (LayerNorm): LayerNorm((768,), eps=1e-12, elementwise_affine=True)\n",
              "            (dropout): Dropout(p=0.1, inplace=False)\n",
              "          )\n",
              "        )\n",
              "      )\n",
              "    )\n",
              "    (pooler): BertPooler(\n",
              "      (dense): Linear(in_features=768, out_features=768, bias=True)\n",
              "      (activation): Tanh()\n",
              "    )\n",
              "  )\n",
              "  (dropout): Dropout(p=0.1, inplace=False)\n",
              "  (classifier): Linear(in_features=768, out_features=2, bias=True)\n",
              ")"
            ]
          },
          "metadata": {},
          "execution_count": 3
        }
      ],
      "source": [
        "\n",
        "from transformers import AutoTokenizer, AutoModelForSequenceClassification\n",
        "from pathlib import Path\n",
        "import torch\n",
        "\n",
        "model_path = Path(\"/content/my_Llama3_BERT_model\")\n",
        "\n",
        "tokenizer = AutoTokenizer.from_pretrained(model_path)\n",
        "model = AutoModelForSequenceClassification.from_pretrained(model_path, torch_dtype=torch.float32)\n",
        "model.eval()\n"
      ]
    },
    {
      "cell_type": "code",
      "source": [
        "from torch.utils.data import DataLoader, TensorDataset\n",
        "import numpy as np\n",
        "\n",
        "\n",
        "# Токенизация\n",
        "test_encodings = tokenizer(list(X_test), padding=True, truncation=True, return_tensors='pt', max_length=512)\n",
        "\n",
        "# Использование DataLoader для батчей\n",
        "test_dataset = TensorDataset(test_encodings['input_ids'], test_encodings['attention_mask'])\n",
        "test_dataloader = DataLoader(test_dataset, batch_size=64)  # Можно настроить размер батча\n",
        "\n",
        "# Предсказания\n",
        "y_pred = []\n",
        "\n",
        "model.eval()  # Переводим модель в режим инференса\n",
        "with torch.no_grad():\n",
        "    for batch in test_dataloader:\n",
        "        input_ids, attention_mask = batch\n",
        "        outputs = model(input_ids=input_ids, attention_mask=attention_mask)\n",
        "        logits = outputs.logits\n",
        "        preds = torch.argmax(logits, dim=1)\n",
        "        y_pred.extend(preds.cpu().numpy())\n",
        "\n",
        "y_pred = np.array(y_pred)  # Преобразуем в numpy массив для дальнейшего анализа\n"
      ],
      "metadata": {
        "id": "YLjaE6Dt9xpx"
      },
      "id": "YLjaE6Dt9xpx",
      "execution_count": 9,
      "outputs": []
    },
    {
      "cell_type": "code",
      "execution_count": 10,
      "id": "a5afb38b",
      "metadata": {
        "id": "a5afb38b",
        "colab": {
          "base_uri": "https://localhost:8080/",
          "height": 628
        },
        "outputId": "1241ca22-c858-4acf-e0c2-8453053a3e73"
      },
      "outputs": [
        {
          "output_type": "stream",
          "name": "stdout",
          "text": [
            "              precision    recall  f1-score   support\n",
            "\n",
            "        Safe       0.98      0.98      0.98      3949\n",
            "   Jailbreak       0.77      0.83      0.80       357\n",
            "\n",
            "    accuracy                           0.97      4306\n",
            "   macro avg       0.88      0.90      0.89      4306\n",
            "weighted avg       0.97      0.97      0.97      4306\n",
            "\n"
          ]
        },
        {
          "output_type": "display_data",
          "data": {
            "text/plain": [
              "<Figure size 640x480 with 2 Axes>"
            ],
            "image/png": "[encoded data removed]"
          },
          "metadata": {}
        }
      ],
      "source": [
        "\n",
        "from sklearn.metrics import classification_report, confusion_matrix, ConfusionMatrixDisplay\n",
        "import matplotlib.pyplot as plt\n",
        "import seaborn as sns\n",
        "\n",
        "# Отчёт\n",
        "print(classification_report(y_test, y_pred, target_names=['Safe', 'Jailbreak']))\n",
        "\n",
        "# Матрица ошибок\n",
        "cm = confusion_matrix(y_test, y_pred)\n",
        "disp = ConfusionMatrixDisplay(confusion_matrix=cm, display_labels=['Safe', 'Jailbreak'])\n",
        "disp.plot(cmap=plt.cm.Blues)\n",
        "plt.title(\"Confusion Matrix\")\n",
        "plt.show()\n"
      ]
    },
    {
      "cell_type": "code",
      "source": [
        "!pip install fpdf\n"
      ],
      "metadata": {
        "colab": {
          "base_uri": "https://localhost:8080/"
        },
        "id": "orgyUlDN3SsL",
        "outputId": "d816e282-b763-4d9b-c599-b4a443f5845c"
      },
      "id": "orgyUlDN3SsL",
      "execution_count": 11,
      "outputs": [
        {
          "output_type": "stream",
          "name": "stdout",
          "text": [
            "Collecting fpdf\n",
            "  Downloading fpdf-1.7.2.tar.gz (39 kB)\n",
            "  Preparing metadata (setup.py) ... \u001b[?25l\u001b[?25hdone\n",
            "Building wheels for collected packages: fpdf\n",
            "  Building wheel for fpdf (setup.py) ... \u001b[?25l\u001b[?25hdone\n",
            "  Created wheel for fpdf: filename=fpdf-1.7.2-py2.py3-none-any.whl size=40704 sha256=b2f5fad36ab40791688491c859d77f16dde53513781f65e31a7bc2e7dd475414\n",
            "  Stored in directory: /root/.cache/pip/wheels/65/4f/66/bbda9866da446a72e206d6484cd97381cbc7859a7068541c36\n",
            "Successfully built fpdf\n",
            "Installing collected packages: fpdf\n",
            "Successfully installed fpdf-1.7.2\n"
          ]
        }
      ]
    },
    {
      "cell_type": "code",
      "source": [
        "from fpdf import FPDF\n",
        "import matplotlib.pyplot as plt\n",
        "\n",
        "# Сохраняем classification report в текст\n",
        "report_text = classification_report(y_test, y_pred, target_names=['Safe', 'Jailbreak'])\n",
        "\n",
        "# Сохраняем матрицу ошибок как изображение\n",
        "fig, ax = plt.subplots(figsize=(6, 6))\n",
        "sns.heatmap(cm, annot=True, fmt=\"d\", cmap=\"Blues\", xticklabels=[\"Safe\", \"Jailbreak\"], yticklabels=[\"Safe\", \"Jailbreak\"])\n",
        "plt.title(\"Confusion Matrix\")\n",
        "plt.ylabel(\"True label\")\n",
        "plt.xlabel(\"Predicted label\")\n",
        "plt.tight_layout()\n",
        "confusion_image_path = \"confusion_matrix_temp.png\"\n",
        "plt.savefig(confusion_image_path)\n",
        "plt.close()\n",
        "\n",
        "# Создаём PDF\n",
        "pdf = FPDF()\n",
        "pdf.add_page()\n",
        "pdf.set_font(\"Arial\", size=12)\n",
        "pdf.multi_cell(0, 10, \"Classification Report:\\n\\n\" + report_text)\n",
        "\n",
        "pdf.image(confusion_image_path, x=10, y=100, w=180)\n",
        "pdf.output(\"model_evaluation_report.pdf\")\n",
        "print(\"PDF-отчёт сохранён как model_evaluation_report.pdf\")\n"
      ],
      "metadata": {
        "id": "u8LFDLga6ROI",
        "colab": {
          "base_uri": "https://localhost:8080/"
        },
        "outputId": "62c94121-707d-4588-9047-614470bdd67d"
      },
      "id": "u8LFDLga6ROI",
      "execution_count": 12,
      "outputs": [
        {
          "output_type": "stream",
          "name": "stdout",
          "text": [
            "PDF-отчёт сохранён как model_evaluation_report.pdf\n"
          ]
        }
      ]
    },
    {
      "cell_type": "code",
      "source": [
        "import seaborn as sns\n",
        "import matplotlib.pyplot as plt\n",
        "\n",
        "# Распределение истинных меток\n",
        "sns.countplot(x=y_test, palette=\"coolwarm\")\n",
        "plt.title(\"Распределение истинных меток (y_test)\")\n",
        "plt.xticks([0, 1], ['Safe', 'Jailbreak'])\n",
        "plt.show()\n",
        "\n",
        "# Распределение предсказанных меток\n",
        "sns.countplot(x=y_pred, palette=\"coolwarm\")\n",
        "plt.title(\"Распределение предсказанных меток (y_pred)\")\n",
        "plt.xticks([0, 1], ['Safe', 'Jailbreak'])\n",
        "plt.show()\n"
      ],
      "metadata": {
        "id": "ffvmVR2w6UPp",
        "colab": {
          "base_uri": "https://localhost:8080/",
          "height": 1000
        },
        "outputId": "f0de6956-ce21-4712-c5ef-ba5a9a933fc1"
      },
      "id": "ffvmVR2w6UPp",
      "execution_count": 13,
      "outputs": [
        {
          "output_type": "stream",
          "name": "stderr",
          "text": [
            "<ipython-input-13-ea52bed82ea7>:5: FutureWarning: \n",
            "\n",
            "Passing `palette` without assigning `hue` is deprecated and will be removed in v0.14.0. Assign the `x` variable to `hue` and set `legend=False` for the same effect.\n",
            "\n",
            "  sns.countplot(x=y_test, palette=\"coolwarm\")\n"
          ]
        },
        {
          "output_type": "display_data",
          "data": {
            "text/plain": [
              "<Figure size 640x480 with 1 Axes>"
            ],
            "image/png": "[encoded data removed]"
          },
          "metadata": {}
        },
        {
          "output_type": "stream",
          "name": "stderr",
          "text": [
            "<ipython-input-13-ea52bed82ea7>:11: FutureWarning: \n",
            "\n",
            "Passing `palette` without assigning `hue` is deprecated and will be removed in v0.14.0. Assign the `x` variable to `hue` and set `legend=False` for the same effect.\n",
            "\n",
            "  sns.countplot(x=y_pred, palette=\"coolwarm\")\n"
          ]
        },
        {
          "output_type": "display_data",
          "data": {
            "text/plain": [
              "<Figure size 640x480 with 1 Axes>"
            ],
            "image/png": "[encoded data removed]"
          },
          "metadata": {}
        }
      ]
    },
    {
      "cell_type": "code",
      "source": [
        "import numpy as np\n",
        "\n",
        "# Преобразуем тестовые примеры в DataFrame\n",
        "errors_df = pd.DataFrame({\n",
        "    \"prompt\": X_test.reset_index(drop=True),\n",
        "    \"true_label\": y_test.reset_index(drop=True),\n",
        "    \"predicted_label\": y_pred\n",
        "})\n",
        "\n",
        "# False Positives (предсказано Jailbreak, а это Safe)\n",
        "fp = errors_df[(errors_df[\"true_label\"] == 0) & (errors_df[\"predicted_label\"] == 1)]\n",
        "fp.to_csv(\"false_positives.csv\", index=False)\n",
        "\n",
        "# False Negatives (предсказано Safe, а это Jailbreak)\n",
        "fn = errors_df[(errors_df[\"true_label\"] == 1) & (errors_df[\"predicted_label\"] == 0)]\n",
        "fn.to_csv(\"false_negatives.csv\", index=False)\n",
        "\n",
        "print(f\"False Positives: {len(fp)}\")\n",
        "print(f\"False Negatives: {len(fn)}\")\n"
      ],
      "metadata": {
        "id": "Wud2Gqst6W6J",
        "colab": {
          "base_uri": "https://localhost:8080/"
        },
        "outputId": "a2b4e73c-61a3-405c-c890-c12bbd6e021a"
      },
      "id": "Wud2Gqst6W6J",
      "execution_count": 14,
      "outputs": [
        {
          "output_type": "stream",
          "name": "stdout",
          "text": [
            "False Positives: 87\n",
            "False Negatives: 60\n"
          ]
        }
      ]
    }
  ],
  "metadata": {
    "colab": {
      "provenance": [],
      "gpuType": "T4"
    },
    "language_info": {
      "name": "python"
    },
    "kernelspec": {
      "name": "python3",
      "display_name": "Python 3"
    },
    "accelerator": "GPU"
  },
  "nbformat": 4,
  "nbformat_minor": 5
}